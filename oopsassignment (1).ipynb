{
 "cells": [
  {
   "cell_type": "code",
   "execution_count": 1,
   "id": "b2af3ef1-bb0c-47f0-ac31-83d9236fa758",
   "metadata": {},
   "outputs": [],
   "source": [
    "#ans1\n",
    "class vehicle:\n",
    "    def __init__(self,name_of_vehicle, max_speed, average_of_vehicle):\n",
    "        self.name_of_vehicle=name_of_vehicle\n",
    "        self.max_speed=max_speed\n",
    "        self.average_of_vehicle=average_of_vehicle\n",
    "    def seating_capacity(self, capacity):\n",
    "        return f\"The seating capacity of a {self.name_of_vehicle} is {capacity} passengers\"   "
   ]
  },
  {
   "cell_type": "code",
   "execution_count": 2,
   "id": "5b02b555-4684-4469-bbdf-1eaea60e590d",
   "metadata": {},
   "outputs": [],
   "source": [
    "#ans2\n",
    "class car(vehicle):\n",
    "    pass"
   ]
  },
  {
   "cell_type": "code",
   "execution_count": 3,
   "id": "01a5f004-37f4-473d-9c86-736f21af32dd",
   "metadata": {},
   "outputs": [
    {
     "data": {
      "text/plain": [
       "'The seating capacity of a bus is 50 passengers'"
      ]
     },
     "execution_count": 3,
     "metadata": {},
     "output_type": "execute_result"
    }
   ],
   "source": [
    "o1=car('bus',90,60)\n",
    "o1.seating_capacity(50)"
   ]
  },
  {
   "cell_type": "code",
   "execution_count": 4,
   "id": "7f3a88fe-b615-4662-a44a-8ac59a055c70",
   "metadata": {},
   "outputs": [
    {
     "data": {
      "text/plain": [
       "'example is shown below'"
      ]
     },
     "execution_count": 4,
     "metadata": {},
     "output_type": "execute_result"
    }
   ],
   "source": [
    "#ans 3\n",
    "''' When a child class derived the properties from more than one base class it is called\n",
    "    as  Multiple Inheritance'''\n",
    "'''example is shown below'''"
   ]
  },
  {
   "cell_type": "code",
   "execution_count": 5,
   "id": "8a6170db-abb8-4bfe-a650-f9a821d8350d",
   "metadata": {},
   "outputs": [],
   "source": [
    "class Base1:\n",
    "    def function1(self):\n",
    "        return \"this is my first base class\""
   ]
  },
  {
   "cell_type": "code",
   "execution_count": 6,
   "id": "60f9a4bb-2a4e-4720-8bf8-653372093b84",
   "metadata": {},
   "outputs": [],
   "source": [
    "class Base2:\n",
    "    def function2(self):\n",
    "        return \"this is my second base class\""
   ]
  },
  {
   "cell_type": "code",
   "execution_count": 7,
   "id": "cf3be6fe-e19d-4c76-9cd2-145f79d2e68f",
   "metadata": {},
   "outputs": [],
   "source": [
    "class child(Base1,Base2):\n",
    "    pass"
   ]
  },
  {
   "cell_type": "code",
   "execution_count": 8,
   "id": "fd9a0f55-5e55-434c-a4e2-d9c320953c26",
   "metadata": {},
   "outputs": [],
   "source": [
    "c1=child()"
   ]
  },
  {
   "cell_type": "code",
   "execution_count": 10,
   "id": "1ae8839b-f3c2-4666-b4f1-49ab9b0a04d1",
   "metadata": {},
   "outputs": [
    {
     "data": {
      "text/plain": [
       "'this is my first base class'"
      ]
     },
     "execution_count": 10,
     "metadata": {},
     "output_type": "execute_result"
    }
   ],
   "source": [
    "c1.function1()"
   ]
  },
  {
   "cell_type": "code",
   "execution_count": 12,
   "id": "c6bf35ac-200a-4856-85dc-7c060b7db636",
   "metadata": {},
   "outputs": [
    {
     "data": {
      "text/plain": [
       "'this is my second base class'"
      ]
     },
     "execution_count": 12,
     "metadata": {},
     "output_type": "execute_result"
    }
   ],
   "source": [
    "c1.function2()"
   ]
  },
  {
   "cell_type": "code",
   "execution_count": null,
   "id": "99f2146c-66f7-4407-8103-6b420415235e",
   "metadata": {},
   "outputs": [],
   "source": [
    "#ans4\n",
    "'''In OOPs languages, getters and setters are used to retrieve and update data. \n",
    "A getter retrieves an object's current attribute value, \n",
    "whereas a setter changes an object's attribute value.''' \n"
   ]
  },
  {
   "cell_type": "code",
   "execution_count": 13,
   "id": "b0ef3bc0-980b-4f4e-8dfa-d77ce73405bf",
   "metadata": {},
   "outputs": [],
   "source": [
    "class student:\n",
    "    def __init__(self,age):\n",
    "        self.__age=age\n",
    "    def set_age(self,y):\n",
    "        self.__age=y\n",
    "    def get_age(self):\n",
    "        return self.__age\n",
    "    "
   ]
  },
  {
   "cell_type": "code",
   "execution_count": 17,
   "id": "84c2b96e-fad5-4d75-a309-96c40e9a2d31",
   "metadata": {},
   "outputs": [
    {
     "data": {
      "text/plain": [
       "19"
      ]
     },
     "execution_count": 17,
     "metadata": {},
     "output_type": "execute_result"
    }
   ],
   "source": [
    "s=student(19)\n",
    "s.get_age()"
   ]
  },
  {
   "cell_type": "code",
   "execution_count": 18,
   "id": "b77b0134-73b5-4139-a504-3f74695b7160",
   "metadata": {},
   "outputs": [
    {
     "data": {
      "text/plain": [
       "22"
      ]
     },
     "execution_count": 18,
     "metadata": {},
     "output_type": "execute_result"
    }
   ],
   "source": [
    "s.set_age(22)\n",
    "s.get_age()"
   ]
  },
  {
   "cell_type": "code",
   "execution_count": 39,
   "id": "8ac76b8e-4634-42a7-bb5d-89fbb0c047a2",
   "metadata": {},
   "outputs": [],
   "source": [
    "#ans 5\n",
    "'''When a method in a subclass has the same name, same parameters and same return type \n",
    "as a method in its super-class, then the method in the subclass\n",
    "is said to override the method in the super-class.'''\n",
    "class Animal:\n",
    "    def breathe(self):\n",
    "        print(\"i breath oxygen\")\n",
    "        \n",
    "        \n",
    "    def get_color(self):\n",
    "        return self.color\n",
    "    \n",
    "    def eat(self):\n",
    "        print(\"food\")\n",
    "        \n",
    "    \n"
   ]
  },
  {
   "cell_type": "code",
   "execution_count": 40,
   "id": "910865db-3837-4036-9f57-919e63a4fb00",
   "metadata": {},
   "outputs": [],
   "source": [
    "class Herbivorous(Animal):\n",
    "    def eat(self):\n",
    "        print(\"plants\")"
   ]
  },
  {
   "cell_type": "code",
   "execution_count": 41,
   "id": "c50a4d4c-324b-42f6-933c-823ef30aef58",
   "metadata": {},
   "outputs": [],
   "source": [
    "h=Herbivorous()"
   ]
  },
  {
   "cell_type": "code",
   "execution_count": 42,
   "id": "9790b946-5de4-46e6-99ab-f4a69bec66b5",
   "metadata": {},
   "outputs": [
    {
     "name": "stdout",
     "output_type": "stream",
     "text": [
      "plants\n"
     ]
    }
   ],
   "source": [
    "h.eat()"
   ]
  },
  {
   "cell_type": "code",
   "execution_count": 43,
   "id": "779c9db8-1cf9-4178-8264-1830da81ac6d",
   "metadata": {},
   "outputs": [
    {
     "name": "stdout",
     "output_type": "stream",
     "text": [
      "i breath oxygen\n"
     ]
    }
   ],
   "source": [
    "h.breathe()"
   ]
  },
  {
   "cell_type": "code",
   "execution_count": 44,
   "id": "7d0b626c-f0e8-487d-a6c7-c01f31582ccd",
   "metadata": {},
   "outputs": [],
   "source": [
    "a=Animal()"
   ]
  },
  {
   "cell_type": "code",
   "execution_count": 45,
   "id": "1d869f54-a386-426d-9d54-642bdbd4e59e",
   "metadata": {},
   "outputs": [
    {
     "name": "stdout",
     "output_type": "stream",
     "text": [
      "food\n"
     ]
    }
   ],
   "source": [
    "a.eat()"
   ]
  }
 ],
 "metadata": {
  "kernelspec": {
   "display_name": "Python 3 (ipykernel)",
   "language": "python",
   "name": "python3"
  },
  "language_info": {
   "codemirror_mode": {
    "name": "ipython",
    "version": 3
   },
   "file_extension": ".py",
   "mimetype": "text/x-python",
   "name": "python",
   "nbconvert_exporter": "python",
   "pygments_lexer": "ipython3",
   "version": "3.10.8"
  }
 },
 "nbformat": 4,
 "nbformat_minor": 5
}
